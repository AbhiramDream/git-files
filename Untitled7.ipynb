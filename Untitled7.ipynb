{
  "nbformat": 4,
  "nbformat_minor": 0,
  "metadata": {
    "colab": {
      "provenance": [],
      "authorship_tag": "ABX9TyP7AweC1sNTg9x3VNdZHMJq",
      "include_colab_link": true
    },
    "kernelspec": {
      "name": "python3",
      "display_name": "Python 3"
    },
    "language_info": {
      "name": "python"
    }
  },
  "cells": [
    {
      "cell_type": "markdown",
      "metadata": {
        "id": "view-in-github",
        "colab_type": "text"
      },
      "source": [
        "<a href=\"https://colab.research.google.com/github/AbhiramDream/git-files/blob/master/Untitled7.ipynb\" target=\"_parent\"><img src=\"https://colab.research.google.com/assets/colab-badge.svg\" alt=\"Open In Colab\"/></a>"
      ]
    },
    {
      "cell_type": "code",
      "execution_count": null,
      "metadata": {
        "id": "DD0DU86nQkLd"
      },
      "outputs": [],
      "source": [
        "import numpy as np\n",
        "\n",
        "# Define the MDP\n",
        "P = np.array([[[0.7, 0.3], [0.4, 0.6]], [[0.8, 0.2], [0.1, 0.9]]])  # Transition probabilities\n",
        "R = np.array([[-1, -1], [10, -1]])  # Rewards\n",
        "gamma = 0.9  # Discount factor\n",
        "\n",
        "def policy_iteration(P, R, gamma):\n",
        "\tV = np.zeros(P.shape[0])\n",
        "\tpolicy = np.zeros(P.shape[0])\n",
        "\twhile True:\n",
        "\t\tV_old = V\n",
        "\t\tV = R + gamma * P.dot(V)\n",
        "\t\tpolicy_old = policy\n",
        "\t\tpolicy = np.argmax(P.dot(V), axis=1)\n",
        "\t\tif np.all(policy == policy_old) and np.all(V == V_old):\n",
        "\t\t\tbreak\n",
        "\treturn policy, V\n",
        "\n",
        "# Run the algorithm\n",
        "policy, V = policy_iteration(P, R, gamma)\n",
        "print(\"Policy Iteration:\")\n",
        "print(\"Policy:\", policy)\n",
        "print(\"Value Function:\", V)"
      ]
    },
    {
      "cell_type": "code",
      "source": [
        "import numpy as np\n",
        "\n",
        "# Define the MDP\n",
        "P = np.array([[[0.7, 0.3], [0.4, 0.6]], [[0.8, 0.2], [0.1, 0.9]]])  # Transition probabilities\n",
        "R = np.array([[-1, -1], [10, -1]])  # Rewards\n",
        "gamma = 0.9  # Discount factor\n",
        "\n",
        "def value_iteration(P, R, gamma):\n",
        "\tV = np.zeros(P.shape[0])\n",
        "\twhile True:\n",
        "\t\tV_old = V\n",
        "\t\tV = np.maximum(R + gamma * P.dot(V), axis=1)\n",
        "\t\tif np.all(V == V_old):\n",
        "\t\t\tbreak\n",
        "\treturn V\n",
        "\n",
        "# Run the algorithm\n",
        "V = value_iteration(P, R, gamma)\n",
        "print(\"Value Iteration:\")\n",
        "print(\"Value Function:\", V)\n"
      ],
      "metadata": {
        "colab": {
          "base_uri": "https://localhost:8080/",
          "height": 332
        },
        "id": "PetDbbjKS895",
        "outputId": "1543f0f5-7498-4074-d47b-bd0aacae86b9"
      },
      "execution_count": null,
      "outputs": [
        {
          "output_type": "error",
          "ename": "TypeError",
          "evalue": "maximum() takes from 2 to 3 positional arguments but 1 were given",
          "traceback": [
            "\u001b[0;31m---------------------------------------------------------------------------\u001b[0m",
            "\u001b[0;31mTypeError\u001b[0m                                 Traceback (most recent call last)",
            "\u001b[0;32m<ipython-input-1-61ad48e6b086>\u001b[0m in \u001b[0;36m<cell line: 18>\u001b[0;34m()\u001b[0m\n\u001b[1;32m     16\u001b[0m \u001b[0;34m\u001b[0m\u001b[0m\n\u001b[1;32m     17\u001b[0m \u001b[0;31m# Run the algorithm\u001b[0m\u001b[0;34m\u001b[0m\u001b[0;34m\u001b[0m\u001b[0m\n\u001b[0;32m---> 18\u001b[0;31m \u001b[0mV\u001b[0m \u001b[0;34m=\u001b[0m \u001b[0mvalue_iteration\u001b[0m\u001b[0;34m(\u001b[0m\u001b[0mP\u001b[0m\u001b[0;34m,\u001b[0m \u001b[0mR\u001b[0m\u001b[0;34m,\u001b[0m \u001b[0mgamma\u001b[0m\u001b[0;34m)\u001b[0m\u001b[0;34m\u001b[0m\u001b[0;34m\u001b[0m\u001b[0m\n\u001b[0m\u001b[1;32m     19\u001b[0m \u001b[0mprint\u001b[0m\u001b[0;34m(\u001b[0m\u001b[0;34m\"Value Iteration:\"\u001b[0m\u001b[0;34m)\u001b[0m\u001b[0;34m\u001b[0m\u001b[0;34m\u001b[0m\u001b[0m\n\u001b[1;32m     20\u001b[0m \u001b[0mprint\u001b[0m\u001b[0;34m(\u001b[0m\u001b[0;34m\"Value Function:\"\u001b[0m\u001b[0;34m,\u001b[0m \u001b[0mV\u001b[0m\u001b[0;34m)\u001b[0m\u001b[0;34m\u001b[0m\u001b[0;34m\u001b[0m\u001b[0m\n",
            "\u001b[0;32m<ipython-input-1-61ad48e6b086>\u001b[0m in \u001b[0;36mvalue_iteration\u001b[0;34m(P, R, gamma)\u001b[0m\n\u001b[1;32m     10\u001b[0m         \u001b[0;32mwhile\u001b[0m \u001b[0;32mTrue\u001b[0m\u001b[0;34m:\u001b[0m\u001b[0;34m\u001b[0m\u001b[0;34m\u001b[0m\u001b[0m\n\u001b[1;32m     11\u001b[0m                 \u001b[0mV_old\u001b[0m \u001b[0;34m=\u001b[0m \u001b[0mV\u001b[0m\u001b[0;34m\u001b[0m\u001b[0;34m\u001b[0m\u001b[0m\n\u001b[0;32m---> 12\u001b[0;31m                 \u001b[0mV\u001b[0m \u001b[0;34m=\u001b[0m \u001b[0mnp\u001b[0m\u001b[0;34m.\u001b[0m\u001b[0mmaximum\u001b[0m\u001b[0;34m(\u001b[0m\u001b[0mR\u001b[0m \u001b[0;34m+\u001b[0m \u001b[0mgamma\u001b[0m \u001b[0;34m*\u001b[0m \u001b[0mP\u001b[0m\u001b[0;34m.\u001b[0m\u001b[0mdot\u001b[0m\u001b[0;34m(\u001b[0m\u001b[0mV\u001b[0m\u001b[0;34m)\u001b[0m\u001b[0;34m,\u001b[0m \u001b[0maxis\u001b[0m\u001b[0;34m=\u001b[0m\u001b[0;36m1\u001b[0m\u001b[0;34m)\u001b[0m\u001b[0;34m\u001b[0m\u001b[0;34m\u001b[0m\u001b[0m\n\u001b[0m\u001b[1;32m     13\u001b[0m                 \u001b[0;32mif\u001b[0m \u001b[0mnp\u001b[0m\u001b[0;34m.\u001b[0m\u001b[0mall\u001b[0m\u001b[0;34m(\u001b[0m\u001b[0mV\u001b[0m \u001b[0;34m==\u001b[0m \u001b[0mV_old\u001b[0m\u001b[0;34m)\u001b[0m\u001b[0;34m:\u001b[0m\u001b[0;34m\u001b[0m\u001b[0;34m\u001b[0m\u001b[0m\n\u001b[1;32m     14\u001b[0m                         \u001b[0;32mbreak\u001b[0m\u001b[0;34m\u001b[0m\u001b[0;34m\u001b[0m\u001b[0m\n",
            "\u001b[0;31mTypeError\u001b[0m: maximum() takes from 2 to 3 positional arguments but 1 were given"
          ]
        }
      ]
    },
    {
      "cell_type": "code",
      "source": [
        "import heapq\n",
        "\n",
        "# Define the heuristic function (Manhattan distance)\n",
        "def heuristic(a, b):\n",
        "    return abs(a[0] - b[0]) + abs(a[1] - b[1])\n",
        "\n",
        "# A* Algorithm\n",
        "def a_star_search(grid, start, goal):\n",
        "    rows, cols = len(grid), len(grid[0])\n",
        "    open_list = []\n",
        "    heapq.heappush(open_list, (0 + heuristic(start, goal), 0, start))  # (f_score, g_score, node)\n",
        "    came_from = {}\n",
        "    g_score = {start: 0}\n",
        "\n",
        "    while open_list:\n",
        "        _, current_g, current = heapq.heappop(open_list)\n",
        "\n",
        "        if current == goal:\n",
        "            path = []\n",
        "            while current in came_from:\n",
        "                path.append(current)\n",
        "                current = came_from[current]\n",
        "            path.append(start)\n",
        "            path.reverse()\n",
        "            return path\n",
        "\n",
        "        neighbors = [(0, 1), (1, 0), (0, -1), (-1, 0)]  # Right, Down, Left, Up\n",
        "        for direction in neighbors:\n",
        "            neighbor = (current[0] + direction[0], current[1] + direction[1])\n",
        "            if 0 <= neighbor[0] < rows and 0 <= neighbor[1] < cols and grid[neighbor[0]][neighbor[1]] == 0:\n",
        "                tentative_g_score = current_g + 1\n",
        "                if neighbor not in g_score or tentative_g_score < g_score[neighbor]:\n",
        "                    g_score[neighbor] = tentative_g_score\n",
        "                    f_score = tentative_g_score + heuristic(neighbor, goal)\n",
        "                    heapq.heappush(open_list, (f_score, tentative_g_score, neighbor))\n",
        "                    came_from[neighbor] = current\n",
        "\n",
        "    return None  # No path found\n",
        "\n",
        "# Example usage\n",
        "grid = [\n",
        "    [0, 1, 0, 0, 0],\n",
        "    [0, 1, 0, 1, 0],\n",
        "    [0, 0, 0, 1, 0],\n",
        "    [0, 1, 0, 0, 0],\n",
        "    [0, 0, 0, 1, 0]\n",
        "]\n",
        "\n",
        "start = (0, 0)\n",
        "goal = (4, 4)\n",
        "\n",
        "path = a_star_search(grid, start, goal)\n",
        "print(\"Path found:\", path)\n",
        "\n"
      ],
      "metadata": {
        "colab": {
          "base_uri": "https://localhost:8080/"
        },
        "id": "m7oWVZP2aU1S",
        "outputId": "b1c6a434-dc42-4431-ac30-2e26806d0c06"
      },
      "execution_count": null,
      "outputs": [
        {
          "output_type": "stream",
          "name": "stdout",
          "text": [
            "Path found: [(0, 0), (1, 0), (2, 0), (2, 1), (2, 2), (3, 2), (3, 3), (3, 4), (4, 4)]\n"
          ]
        }
      ]
    },
    {
      "cell_type": "code",
      "source": [
        "import heapq\n",
        "\n",
        "def heuristic(a, b, target):\n",
        "    return min(abs(a - target), abs(b - target), abs((a + b) - target))\n",
        "\n",
        "def water_jug_problem_astar(jug1_capacity, jug2_capacity, target):\n",
        "    if target > jug1_capacity and target > jug2_capacity:\n",
        "        return \"Not possible\"\n",
        "\n",
        "    visited = set()\n",
        "    priority_queue = [(0, 0, 0)]  # (cost, jug1, jug2)\n",
        "\n",
        "    while priority_queue:\n",
        "        cost, a, b = heapq.heappop(priority_queue)\n",
        "\n",
        "        if (a, b) in visited:\n",
        "            continue\n",
        "\n",
        "        visited.add((a, b))\n",
        "\n",
        "        if a == target or b == target or a + b == target:\n",
        "            return True\n",
        "\n",
        "        # Possible actions\n",
        "        possible_states = [\n",
        "            (jug1_capacity, b),  # Fill jug1\n",
        "            (a, jug2_capacity),  # Fill jug2\n",
        "            (0, b),              # Empty jug1\n",
        "            (a, 0),              # Empty jug2\n",
        "            (a - min(a, jug2_capacity - b), b + min(a, jug2_capacity - b)),  # Pour jug1 -> jug2\n",
        "            (a + min(b, jug1_capacity - a), b - min(b, jug1_capacity - a))   # Pour jug2 -> jug1\n",
        "        ]\n",
        "\n",
        "        for state in possible_states:\n",
        "            if state not in visited:\n",
        "                new_cost = cost + 1\n",
        "                priority = new_cost + heuristic(state[0], state[1], target)\n",
        "                heapq.heappush(priority_queue, (priority, state[0], state[1]))\n",
        "\n",
        "    return False  # If no solution is found\n",
        "\n",
        "# Example usage\n",
        "jug1_capacity = 4\n",
        "jug2_capacity = 3\n",
        "target = 2\n",
        "\n",
        "result = water_jug_problem_astar(jug1_capacity, jug2_capacity, target)\n",
        "print(\"Solution exists:\" if result else \"No solution possible\")\n"
      ],
      "metadata": {
        "colab": {
          "base_uri": "https://localhost:8080/"
        },
        "id": "tTVp1AltlddS",
        "outputId": "6b7cdbc2-9c68-49d2-9dd3-cda925cf30c3"
      },
      "execution_count": 1,
      "outputs": [
        {
          "output_type": "stream",
          "name": "stdout",
          "text": [
            "Solution exists:\n"
          ]
        }
      ]
    },
    {
      "cell_type": "code",
      "source": [
        "import heapq\n",
        "from copy import deepcopy\n",
        "\n",
        "def manhattan_distance(start, goal):\n",
        "    distance = 0\n",
        "    for i in range(len(start)):\n",
        "        for j in range(len(start[i])):\n",
        "            if start[i][j] != 0:\n",
        "                x, y = divmod(goal.index(start[i][j]), len(start))\n",
        "                distance += abs(x - i) + abs(y - j)\n",
        "    return distance\n",
        "\n",
        "def get_goal_state():\n",
        "    return [[1, 2, 3], [4, 5, 6], [7, 8, 0]]\n",
        "\n",
        "def get_neighbors(state):\n",
        "    neighbors = []\n",
        "    x, y = next((i, j) for i, row in enumerate(state) for j, val in enumerate(row) if val == 0)\n",
        "    directions = [(-1, 0), (1, 0), (0, -1), (0, 1)]\n",
        "    for dx, dy in directions:\n",
        "        nx, ny = x + dx, y + dy\n",
        "        if 0 <= nx < len(state) and 0 <= ny < len(state[0]):\n",
        "            new_state = deepcopy(state)\n",
        "            new_state[x][y], new_state[nx][ny] = new_state[nx][ny], new_state[x][y]\n",
        "            neighbors.append(new_state)\n",
        "    return neighbors\n",
        "\n",
        "def a_star(start):\n",
        "    goal = get_goal_state()\n",
        "    start_flat = [tile for row in start for tile in row]\n",
        "    goal_flat = [tile for row in goal for tile in row]\n",
        "    start_tuple = tuple(tuple(row) for row in start)\n",
        "\n",
        "    pq = [(manhattan_distance(start_flat, goal_flat), 0, start_tuple)]\n",
        "    visited = set()\n",
        "    heapq.heapify(pq)\n",
        "\n",
        "    while pq:\n",
        "        estimated_cost, cost_so_far, current_state = heapq.heappop(pq)\n",
        "\n",
        "        if current_state == tuple(tuple(row) for row in goal):\n",
        "            return True\n",
        "\n",
        "        if current_state in visited:\n",
        "            continue\n",
        "\n",
        "        visited.add(current_state)\n",
        "\n",
        "        for neighbor in get_neighbors([list(row) for row in current_state]):\n",
        "            neighbor_tuple = tuple(tuple(row) for row in neighbor)\n",
        "            if neighbor_tuple not in visited:\n",
        "                neighbor_flat = [tile for row in neighbor for tile in row]\n",
        "                total_cost = cost_so_far + 1\n",
        "                estimated_cost = total_cost + manhattan_distance(neighbor_flat, goal_flat)\n",
        "                heapq.heappush(pq, (estimated_cost, total_cost, neighbor_tuple))\n",
        "\n",
        "    return False\n",
        "\n",
        "# Example usage\n",
        "start_state = [[1, 2, 3], [4, 0, 5], [7, 8, 6]]\n",
        "\n",
        "result = a_star(start_state)\n",
        "print(\"Solution found:\" if result else \"No solution possible\")\n"
      ],
      "metadata": {
        "colab": {
          "base_uri": "https://localhost:8080/",
          "height": 339
        },
        "id": "GSFQTr1Elivg",
        "outputId": "0e753bd4-20ee-42c3-b65f-02de0b4b4d61"
      },
      "execution_count": 2,
      "outputs": [
        {
          "output_type": "error",
          "ename": "TypeError",
          "evalue": "object of type 'int' has no len()",
          "traceback": [
            "\u001b[0;31m---------------------------------------------------------------------------\u001b[0m",
            "\u001b[0;31mTypeError\u001b[0m                                 Traceback (most recent call last)",
            "\u001b[0;32m<ipython-input-2-0f47622f89f1>\u001b[0m in \u001b[0;36m<cell line: 62>\u001b[0;34m()\u001b[0m\n\u001b[1;32m     60\u001b[0m \u001b[0mstart_state\u001b[0m \u001b[0;34m=\u001b[0m \u001b[0;34m[\u001b[0m\u001b[0;34m[\u001b[0m\u001b[0;36m1\u001b[0m\u001b[0;34m,\u001b[0m \u001b[0;36m2\u001b[0m\u001b[0;34m,\u001b[0m \u001b[0;36m3\u001b[0m\u001b[0;34m]\u001b[0m\u001b[0;34m,\u001b[0m \u001b[0;34m[\u001b[0m\u001b[0;36m4\u001b[0m\u001b[0;34m,\u001b[0m \u001b[0;36m0\u001b[0m\u001b[0;34m,\u001b[0m \u001b[0;36m5\u001b[0m\u001b[0;34m]\u001b[0m\u001b[0;34m,\u001b[0m \u001b[0;34m[\u001b[0m\u001b[0;36m7\u001b[0m\u001b[0;34m,\u001b[0m \u001b[0;36m8\u001b[0m\u001b[0;34m,\u001b[0m \u001b[0;36m6\u001b[0m\u001b[0;34m]\u001b[0m\u001b[0;34m]\u001b[0m\u001b[0;34m\u001b[0m\u001b[0;34m\u001b[0m\u001b[0m\n\u001b[1;32m     61\u001b[0m \u001b[0;34m\u001b[0m\u001b[0m\n\u001b[0;32m---> 62\u001b[0;31m \u001b[0mresult\u001b[0m \u001b[0;34m=\u001b[0m \u001b[0ma_star\u001b[0m\u001b[0;34m(\u001b[0m\u001b[0mstart_state\u001b[0m\u001b[0;34m)\u001b[0m\u001b[0;34m\u001b[0m\u001b[0;34m\u001b[0m\u001b[0m\n\u001b[0m\u001b[1;32m     63\u001b[0m \u001b[0mprint\u001b[0m\u001b[0;34m(\u001b[0m\u001b[0;34m\"Solution found:\"\u001b[0m \u001b[0;32mif\u001b[0m \u001b[0mresult\u001b[0m \u001b[0;32melse\u001b[0m \u001b[0;34m\"No solution possible\"\u001b[0m\u001b[0;34m)\u001b[0m\u001b[0;34m\u001b[0m\u001b[0;34m\u001b[0m\u001b[0m\n",
            "\u001b[0;32m<ipython-input-2-0f47622f89f1>\u001b[0m in \u001b[0;36ma_star\u001b[0;34m(start)\u001b[0m\n\u001b[1;32m     32\u001b[0m     \u001b[0mstart_tuple\u001b[0m \u001b[0;34m=\u001b[0m \u001b[0mtuple\u001b[0m\u001b[0;34m(\u001b[0m\u001b[0mtuple\u001b[0m\u001b[0;34m(\u001b[0m\u001b[0mrow\u001b[0m\u001b[0;34m)\u001b[0m \u001b[0;32mfor\u001b[0m \u001b[0mrow\u001b[0m \u001b[0;32min\u001b[0m \u001b[0mstart\u001b[0m\u001b[0;34m)\u001b[0m\u001b[0;34m\u001b[0m\u001b[0;34m\u001b[0m\u001b[0m\n\u001b[1;32m     33\u001b[0m \u001b[0;34m\u001b[0m\u001b[0m\n\u001b[0;32m---> 34\u001b[0;31m     \u001b[0mpq\u001b[0m \u001b[0;34m=\u001b[0m \u001b[0;34m[\u001b[0m\u001b[0;34m(\u001b[0m\u001b[0mmanhattan_distance\u001b[0m\u001b[0;34m(\u001b[0m\u001b[0mstart_flat\u001b[0m\u001b[0;34m,\u001b[0m \u001b[0mgoal_flat\u001b[0m\u001b[0;34m)\u001b[0m\u001b[0;34m,\u001b[0m \u001b[0;36m0\u001b[0m\u001b[0;34m,\u001b[0m \u001b[0mstart_tuple\u001b[0m\u001b[0;34m)\u001b[0m\u001b[0;34m]\u001b[0m\u001b[0;34m\u001b[0m\u001b[0;34m\u001b[0m\u001b[0m\n\u001b[0m\u001b[1;32m     35\u001b[0m     \u001b[0mvisited\u001b[0m \u001b[0;34m=\u001b[0m \u001b[0mset\u001b[0m\u001b[0;34m(\u001b[0m\u001b[0;34m)\u001b[0m\u001b[0;34m\u001b[0m\u001b[0;34m\u001b[0m\u001b[0m\n\u001b[1;32m     36\u001b[0m     \u001b[0mheapq\u001b[0m\u001b[0;34m.\u001b[0m\u001b[0mheapify\u001b[0m\u001b[0;34m(\u001b[0m\u001b[0mpq\u001b[0m\u001b[0;34m)\u001b[0m\u001b[0;34m\u001b[0m\u001b[0;34m\u001b[0m\u001b[0m\n",
            "\u001b[0;32m<ipython-input-2-0f47622f89f1>\u001b[0m in \u001b[0;36mmanhattan_distance\u001b[0;34m(start, goal)\u001b[0m\n\u001b[1;32m      5\u001b[0m     \u001b[0mdistance\u001b[0m \u001b[0;34m=\u001b[0m \u001b[0;36m0\u001b[0m\u001b[0;34m\u001b[0m\u001b[0;34m\u001b[0m\u001b[0m\n\u001b[1;32m      6\u001b[0m     \u001b[0;32mfor\u001b[0m \u001b[0mi\u001b[0m \u001b[0;32min\u001b[0m \u001b[0mrange\u001b[0m\u001b[0;34m(\u001b[0m\u001b[0mlen\u001b[0m\u001b[0;34m(\u001b[0m\u001b[0mstart\u001b[0m\u001b[0;34m)\u001b[0m\u001b[0;34m)\u001b[0m\u001b[0;34m:\u001b[0m\u001b[0;34m\u001b[0m\u001b[0;34m\u001b[0m\u001b[0m\n\u001b[0;32m----> 7\u001b[0;31m         \u001b[0;32mfor\u001b[0m \u001b[0mj\u001b[0m \u001b[0;32min\u001b[0m \u001b[0mrange\u001b[0m\u001b[0;34m(\u001b[0m\u001b[0mlen\u001b[0m\u001b[0;34m(\u001b[0m\u001b[0mstart\u001b[0m\u001b[0;34m[\u001b[0m\u001b[0mi\u001b[0m\u001b[0;34m]\u001b[0m\u001b[0;34m)\u001b[0m\u001b[0;34m)\u001b[0m\u001b[0;34m:\u001b[0m\u001b[0;34m\u001b[0m\u001b[0;34m\u001b[0m\u001b[0m\n\u001b[0m\u001b[1;32m      8\u001b[0m             \u001b[0;32mif\u001b[0m \u001b[0mstart\u001b[0m\u001b[0;34m[\u001b[0m\u001b[0mi\u001b[0m\u001b[0;34m]\u001b[0m\u001b[0;34m[\u001b[0m\u001b[0mj\u001b[0m\u001b[0;34m]\u001b[0m \u001b[0;34m!=\u001b[0m \u001b[0;36m0\u001b[0m\u001b[0;34m:\u001b[0m\u001b[0;34m\u001b[0m\u001b[0;34m\u001b[0m\u001b[0m\n\u001b[1;32m      9\u001b[0m                 \u001b[0mx\u001b[0m\u001b[0;34m,\u001b[0m \u001b[0my\u001b[0m \u001b[0;34m=\u001b[0m \u001b[0mdivmod\u001b[0m\u001b[0;34m(\u001b[0m\u001b[0mgoal\u001b[0m\u001b[0;34m.\u001b[0m\u001b[0mindex\u001b[0m\u001b[0;34m(\u001b[0m\u001b[0mstart\u001b[0m\u001b[0;34m[\u001b[0m\u001b[0mi\u001b[0m\u001b[0;34m]\u001b[0m\u001b[0;34m[\u001b[0m\u001b[0mj\u001b[0m\u001b[0;34m]\u001b[0m\u001b[0;34m)\u001b[0m\u001b[0;34m,\u001b[0m \u001b[0mlen\u001b[0m\u001b[0;34m(\u001b[0m\u001b[0mstart\u001b[0m\u001b[0;34m)\u001b[0m\u001b[0;34m)\u001b[0m\u001b[0;34m\u001b[0m\u001b[0;34m\u001b[0m\u001b[0m\n",
            "\u001b[0;31mTypeError\u001b[0m: object of type 'int' has no len()"
          ]
        }
      ]
    },
    {
      "cell_type": "code",
      "source": [],
      "metadata": {
        "id": "1Ir-OTT4pQVT"
      },
      "execution_count": null,
      "outputs": []
    }
  ]
}