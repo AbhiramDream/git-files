{
  "nbformat": 4,
  "nbformat_minor": 0,
  "metadata": {
    "colab": {
      "provenance": [],
      "authorship_tag": "ABX9TyMg6GFtdvbuI4ABfqByvfr5",
      "include_colab_link": true
    },
    "kernelspec": {
      "name": "python3",
      "display_name": "Python 3"
    },
    "language_info": {
      "name": "python"
    }
  },
  "cells": [
    {
      "cell_type": "markdown",
      "metadata": {
        "id": "view-in-github",
        "colab_type": "text"
      },
      "source": [
        "<a href=\"https://colab.research.google.com/github/AbhiramDream/git-files/blob/master/Untitled6.ipynb\" target=\"_parent\"><img src=\"https://colab.research.google.com/assets/colab-badge.svg\" alt=\"Open In Colab\"/></a>"
      ]
    },
    {
      "cell_type": "code",
      "source": [
        "!pip install python-constraint\n",
        "\n",
        "from constraint import Problem\n",
        "\n",
        "def graph_coloring(vertices, edges):\n",
        "\tproblem = Problem()\n",
        "\tcolors = ['red', 'green', 'blue']\n",
        "\n",
        "\tfor vertex in vertices:\n",
        "\t\tproblem.addVariable(vertex, colors)\n",
        "\n",
        "\tfor edge in edges:\n",
        "\t\tproblem.addConstraint(lambda a, b: a != b, edge)\n",
        "\n",
        "\tsolution = problem.getSolution()\n",
        "\n",
        "\tif solution:\n",
        "\t\treturn solution\n",
        "\telse:\n",
        "\t\treturn \"No solution found\"\n",
        "\n",
        "# Example usage:\n",
        "vertices = ['A', 'B', 'C', 'D']\n",
        "edges = [('A', 'B'), ('A', 'C'), ('B', 'D'), ('C', 'D')]\n",
        "print(graph_coloring(vertices, edges))"
      ],
      "metadata": {
        "colab": {
          "base_uri": "https://localhost:8080/"
        },
        "id": "lwQDkcTAM4MR",
        "outputId": "3b4552bc-d31f-4d8f-9149-e0c55a87719d"
      },
      "execution_count": null,
      "outputs": [
        {
          "output_type": "stream",
          "name": "stdout",
          "text": [
            "Collecting python-constraint\n",
            "  Downloading python-constraint-1.4.0.tar.bz2 (18 kB)\n",
            "  Preparing metadata (setup.py) ... \u001b[?25l\u001b[?25hdone\n",
            "Building wheels for collected packages: python-constraint\n",
            "  Building wheel for python-constraint (setup.py) ... \u001b[?25l\u001b[?25hdone\n",
            "  Created wheel for python-constraint: filename=python_constraint-1.4.0-py2.py3-none-any.whl size=24058 sha256=97b76ecbd904fe6ef7998cfdc1a714e2d3e3963eb6ba5502ce8c6f54f2641f9b\n",
            "  Stored in directory: /root/.cache/pip/wheels/2e/f2/2b/cb08b5fe129e4f69b7033061f256e5c551b0aa1160c2872aee\n",
            "Successfully built python-constraint\n",
            "Installing collected packages: python-constraint\n",
            "Successfully installed python-constraint-1.4.0\n",
            "{'A': 'blue', 'B': 'green', 'C': 'green', 'D': 'blue'}\n"
          ]
        }
      ]
    },
    {
      "cell_type": "markdown",
      "source": [
        "# New Section"
      ],
      "metadata": {
        "id": "bU17U86fO1YU"
      }
    },
    {
      "cell_type": "code",
      "source": [
        "def possible_numbers(board, row, col):\n",
        "  \"\"\"\n",
        "  Finds all possible numbers that can be placed in a cell based on existing constraints.\n",
        "  \"\"\"\n",
        "  possible = set(range(1, 10))\n",
        "  # Check row and column constraints\n",
        "  for i in range(9):\n",
        "    if board[row][i] != 0:\n",
        "      possible.discard(board[row][i])\n",
        "    if board[i][col] != 0:\n",
        "      possible.discard(board[i][col])\n",
        "  # Check 3x3 subgrid constraints\n",
        "  box_row_start = (row // 3) * 3\n",
        "  box_col_start = (col // 3) * 3\n",
        "  for i in range(box_row_start, box_row_start + 3):\n",
        "    for j in range(box_col_start, box_col_start + 3):\n",
        "      if board[i][j] != 0:\n",
        "        possible.discard(board[i][j])\n",
        "  return possible\n",
        "\n",
        "def solve_sudoku(board):\n",
        "  \"\"\"\n",
        "  Solves the Sudoku puzzle using backtracking with CSP approach.\n",
        "  \"\"\"\n",
        "  for row in range(9):\n",
        "    for col in range(9):\n",
        "      if board[row][col] == 0:\n",
        "        for num in possible_numbers(board, row, col):\n",
        "          board[row][col] = num\n",
        "          if solve_sudoku(board):\n",
        "            return True\n",
        "          board[row][col] = 0  # Backtrack if assignment doesn't lead to a solution\n",
        "        return False  # No valid assignment found in this cell\n",
        "  return True  # All cells filled with valid numbers\n",
        "\n",
        "# Example usage\n",
        "board = [\n",
        "  [7, 8, 0, 4, 0, 0, 1, 2, 0],\n",
        "  [6, 0, 0, 0, 7, 5, 0, 0, 9],\n",
        "  [0, 0, 0, 6, 0, 1, 0, 7, 8],\n",
        "  [0, 0, 7, 0, 4, 0, 2, 6, 0],\n",
        "  [0, 5, 0, 0, 6, 0, 0, 8, 7],\n",
        "  [0, 0, 0, 0, 1, 0, 7, 0, 0],\n",
        "  [0, 7, 0, 1, 0, 0, 0, 0, 4],\n",
        "  [9, 0, 0, 0, 5, 0, 0, 1, 6],\n",
        "  [0, 0, 2, 8, 0, 0, 0, 3, 5]\n",
        "]\n",
        "\n",
        "if solve_sudoku(board):\n",
        "  print(\"Sudoku solved!\")\n",
        "  for row in board:\n",
        "    print(row)\n",
        "else:\n",
        "  print(\"No solution found!\")\n"
      ],
      "metadata": {
        "colab": {
          "base_uri": "https://localhost:8080/"
        },
        "id": "BOzkPXwPXTiI",
        "outputId": "e165ab77-cb5f-483f-f0dc-cfd500a874e0"
      },
      "execution_count": null,
      "outputs": [
        {
          "output_type": "stream",
          "name": "stdout",
          "text": [
            "No solution found!\n"
          ]
        }
      ]
    },
    {
      "cell_type": "code",
      "source": [
        "!pip install pgmpy\n",
        "from pgmpy.models import BayesianNetwork\n",
        "from pgmpy.factors.discrete import TabularCPD\n",
        "from pgmpy.inference import VariableElimination\n",
        "\n",
        "# Define the structure of the Bayesian Network\n",
        "model = BayesianNetwork([('Cold', 'Cough')])\n",
        "\n",
        "# Define the CPDs (Conditional Probability Distributions)\n",
        "cpd_cold = TabularCPD(variable='Cold', variable_card=2, values=[[0.8], [0.2]])\n",
        "cpd_cough = TabularCPD(variable='Cough', variable_card=2,\n",
        "                       values=[[0.9, 0.3], [0.1, 0.7]],\n",
        "                       evidence=['Cold'], evidence_card=[2])\n",
        "\n",
        "# Add the CPDs to the model\n",
        "model.add_cpds(cpd_cold, cpd_cough)\n",
        "\n",
        "# Check if the model is correctly defined\n",
        "model.check_model()\n",
        "\n",
        "# Perform inference\n",
        "inference = VariableElimination(model)\n",
        "\n",
        "# Query: What is the probability of having a cold given that someone has a cough?\n",
        "query_result = inference.query(variables=['Cold'], evidence={'Cough': 1})\n",
        "print(query_result)\n"
      ],
      "metadata": {
        "colab": {
          "base_uri": "https://localhost:8080/"
        },
        "id": "1bBJFVUnKdhL",
        "outputId": "3319708f-70b6-4d75-f87c-19360b0adf45"
      },
      "execution_count": null,
      "outputs": [
        {
          "output_type": "stream",
          "name": "stdout",
          "text": [
            "Collecting pgmpy\n",
            "  Downloading pgmpy-0.1.25-py3-none-any.whl (2.0 MB)\n",
            "\u001b[2K     \u001b[90m━━━━━━━━━━━━━━━━━━━━━━━━━━━━━━━━━━━━━━━━\u001b[0m \u001b[32m2.0/2.0 MB\u001b[0m \u001b[31m20.8 MB/s\u001b[0m eta \u001b[36m0:00:00\u001b[0m\n",
            "\u001b[?25hRequirement already satisfied: networkx in /usr/local/lib/python3.10/dist-packages (from pgmpy) (3.3)\n",
            "Requirement already satisfied: numpy in /usr/local/lib/python3.10/dist-packages (from pgmpy) (1.25.2)\n",
            "Requirement already satisfied: scipy in /usr/local/lib/python3.10/dist-packages (from pgmpy) (1.11.4)\n",
            "Requirement already satisfied: scikit-learn in /usr/local/lib/python3.10/dist-packages (from pgmpy) (1.2.2)\n",
            "Requirement already satisfied: pandas in /usr/local/lib/python3.10/dist-packages (from pgmpy) (2.0.3)\n",
            "Requirement already satisfied: pyparsing in /usr/local/lib/python3.10/dist-packages (from pgmpy) (3.1.2)\n",
            "Requirement already satisfied: torch in /usr/local/lib/python3.10/dist-packages (from pgmpy) (2.3.0+cu121)\n",
            "Requirement already satisfied: statsmodels in /usr/local/lib/python3.10/dist-packages (from pgmpy) (0.14.2)\n",
            "Requirement already satisfied: tqdm in /usr/local/lib/python3.10/dist-packages (from pgmpy) (4.66.4)\n",
            "Requirement already satisfied: joblib in /usr/local/lib/python3.10/dist-packages (from pgmpy) (1.4.2)\n",
            "Requirement already satisfied: opt-einsum in /usr/local/lib/python3.10/dist-packages (from pgmpy) (3.3.0)\n",
            "Requirement already satisfied: python-dateutil>=2.8.2 in /usr/local/lib/python3.10/dist-packages (from pandas->pgmpy) (2.8.2)\n",
            "Requirement already satisfied: pytz>=2020.1 in /usr/local/lib/python3.10/dist-packages (from pandas->pgmpy) (2023.4)\n",
            "Requirement already satisfied: tzdata>=2022.1 in /usr/local/lib/python3.10/dist-packages (from pandas->pgmpy) (2024.1)\n",
            "Requirement already satisfied: threadpoolctl>=2.0.0 in /usr/local/lib/python3.10/dist-packages (from scikit-learn->pgmpy) (3.5.0)\n",
            "Requirement already satisfied: patsy>=0.5.6 in /usr/local/lib/python3.10/dist-packages (from statsmodels->pgmpy) (0.5.6)\n",
            "Requirement already satisfied: packaging>=21.3 in /usr/local/lib/python3.10/dist-packages (from statsmodels->pgmpy) (24.0)\n",
            "Requirement already satisfied: filelock in /usr/local/lib/python3.10/dist-packages (from torch->pgmpy) (3.14.0)\n",
            "Requirement already satisfied: typing-extensions>=4.8.0 in /usr/local/lib/python3.10/dist-packages (from torch->pgmpy) (4.11.0)\n",
            "Requirement already satisfied: sympy in /usr/local/lib/python3.10/dist-packages (from torch->pgmpy) (1.12)\n",
            "Requirement already satisfied: jinja2 in /usr/local/lib/python3.10/dist-packages (from torch->pgmpy) (3.1.4)\n",
            "Requirement already satisfied: fsspec in /usr/local/lib/python3.10/dist-packages (from torch->pgmpy) (2023.6.0)\n",
            "Collecting nvidia-cuda-nvrtc-cu12==12.1.105 (from torch->pgmpy)\n",
            "  Using cached nvidia_cuda_nvrtc_cu12-12.1.105-py3-none-manylinux1_x86_64.whl (23.7 MB)\n",
            "Collecting nvidia-cuda-runtime-cu12==12.1.105 (from torch->pgmpy)\n",
            "  Using cached nvidia_cuda_runtime_cu12-12.1.105-py3-none-manylinux1_x86_64.whl (823 kB)\n",
            "Collecting nvidia-cuda-cupti-cu12==12.1.105 (from torch->pgmpy)\n",
            "  Using cached nvidia_cuda_cupti_cu12-12.1.105-py3-none-manylinux1_x86_64.whl (14.1 MB)\n",
            "Collecting nvidia-cudnn-cu12==8.9.2.26 (from torch->pgmpy)\n",
            "  Using cached nvidia_cudnn_cu12-8.9.2.26-py3-none-manylinux1_x86_64.whl (731.7 MB)\n",
            "Collecting nvidia-cublas-cu12==12.1.3.1 (from torch->pgmpy)\n",
            "  Using cached nvidia_cublas_cu12-12.1.3.1-py3-none-manylinux1_x86_64.whl (410.6 MB)\n",
            "Collecting nvidia-cufft-cu12==11.0.2.54 (from torch->pgmpy)\n",
            "  Using cached nvidia_cufft_cu12-11.0.2.54-py3-none-manylinux1_x86_64.whl (121.6 MB)\n",
            "Collecting nvidia-curand-cu12==10.3.2.106 (from torch->pgmpy)\n",
            "  Using cached nvidia_curand_cu12-10.3.2.106-py3-none-manylinux1_x86_64.whl (56.5 MB)\n",
            "Collecting nvidia-cusolver-cu12==11.4.5.107 (from torch->pgmpy)\n",
            "  Using cached nvidia_cusolver_cu12-11.4.5.107-py3-none-manylinux1_x86_64.whl (124.2 MB)\n",
            "Collecting nvidia-cusparse-cu12==12.1.0.106 (from torch->pgmpy)\n",
            "  Using cached nvidia_cusparse_cu12-12.1.0.106-py3-none-manylinux1_x86_64.whl (196.0 MB)\n",
            "Collecting nvidia-nccl-cu12==2.20.5 (from torch->pgmpy)\n",
            "  Using cached nvidia_nccl_cu12-2.20.5-py3-none-manylinux2014_x86_64.whl (176.2 MB)\n",
            "Collecting nvidia-nvtx-cu12==12.1.105 (from torch->pgmpy)\n",
            "  Using cached nvidia_nvtx_cu12-12.1.105-py3-none-manylinux1_x86_64.whl (99 kB)\n",
            "Requirement already satisfied: triton==2.3.0 in /usr/local/lib/python3.10/dist-packages (from torch->pgmpy) (2.3.0)\n",
            "Collecting nvidia-nvjitlink-cu12 (from nvidia-cusolver-cu12==11.4.5.107->torch->pgmpy)\n",
            "  Downloading nvidia_nvjitlink_cu12-12.5.40-py3-none-manylinux2014_x86_64.whl (21.3 MB)\n",
            "\u001b[2K     \u001b[90m━━━━━━━━━━━━━━━━━━━━━━━━━━━━━━━━━━━━━━━━\u001b[0m \u001b[32m21.3/21.3 MB\u001b[0m \u001b[31m69.2 MB/s\u001b[0m eta \u001b[36m0:00:00\u001b[0m\n",
            "\u001b[?25hRequirement already satisfied: six in /usr/local/lib/python3.10/dist-packages (from patsy>=0.5.6->statsmodels->pgmpy) (1.16.0)\n",
            "Requirement already satisfied: MarkupSafe>=2.0 in /usr/local/lib/python3.10/dist-packages (from jinja2->torch->pgmpy) (2.1.5)\n",
            "Requirement already satisfied: mpmath>=0.19 in /usr/local/lib/python3.10/dist-packages (from sympy->torch->pgmpy) (1.3.0)\n",
            "Installing collected packages: nvidia-nvtx-cu12, nvidia-nvjitlink-cu12, nvidia-nccl-cu12, nvidia-curand-cu12, nvidia-cufft-cu12, nvidia-cuda-runtime-cu12, nvidia-cuda-nvrtc-cu12, nvidia-cuda-cupti-cu12, nvidia-cublas-cu12, nvidia-cusparse-cu12, nvidia-cudnn-cu12, nvidia-cusolver-cu12, pgmpy\n",
            "Successfully installed nvidia-cublas-cu12-12.1.3.1 nvidia-cuda-cupti-cu12-12.1.105 nvidia-cuda-nvrtc-cu12-12.1.105 nvidia-cuda-runtime-cu12-12.1.105 nvidia-cudnn-cu12-8.9.2.26 nvidia-cufft-cu12-11.0.2.54 nvidia-curand-cu12-10.3.2.106 nvidia-cusolver-cu12-11.4.5.107 nvidia-cusparse-cu12-12.1.0.106 nvidia-nccl-cu12-2.20.5 nvidia-nvjitlink-cu12-12.5.40 nvidia-nvtx-cu12-12.1.105 pgmpy-0.1.25\n",
            "+---------+-------------+\n",
            "| Cold    |   phi(Cold) |\n",
            "+=========+=============+\n",
            "| Cold(0) |      0.3636 |\n",
            "+---------+-------------+\n",
            "| Cold(1) |      0.6364 |\n",
            "+---------+-------------+\n"
          ]
        }
      ]
    },
    {
      "cell_type": "code",
      "source": [
        "# Define board as a list\n",
        "board = [' ' for _ in range(9)]\n",
        "\n",
        "# Function to print the board\n",
        "def print_board():\n",
        "  for i in range(3):\n",
        "    for j in range(3):\n",
        "      print(board[i*3 + j], end=' ')\n",
        "    print()\n",
        "\n",
        "# Function to check if a player has won\n",
        "def check_win(player):\n",
        "  win_conditions = ((0, 1, 2), (3, 4, 5), (6, 7, 8),\n",
        "                    (0, 3, 6), (1, 4, 7), (2, 5, 8),\n",
        "                    (0, 4, 8), (2, 4, 6))\n",
        "  for row in win_conditions:\n",
        "    if all(board[i] == player for i in row):\n",
        "      return True\n",
        "  return False\n",
        "\n",
        "# Function to check if the board is full\n",
        "def is_board_full():\n",
        "  return all(x != ' ' for x in board)\n",
        "\n",
        "# Function to get player input\n",
        "def get_player_move(player):\n",
        "  while True:\n",
        "    try:\n",
        "      move = int(input(f\"Player {player}, enter your move (1-9): \"))\n",
        "      if 1 <= move <= 9 and board[move - 1] == ' ':\n",
        "        return move - 1\n",
        "      else:\n",
        "        print(\"Invalid move. Try again.\")\n",
        "    except ValueError:\n",
        "      print(\"Invalid input. Please enter a number between 1 and 9.\")\n",
        "\n",
        "# Main game loop\n",
        "def main():\n",
        "  current_player = 'X'\n",
        "  while True:\n",
        "    print_board()\n",
        "    move = get_player_move(current_player)\n",
        "    board[move] = current_player\n",
        "\n",
        "    if check_win(current_player):\n",
        "      print_board()\n",
        "      print(f\"Player {current_player} wins!\")\n",
        "      break\n",
        "\n",
        "    if is_board_full():\n",
        "      print_board()\n",
        "      print(\"It's a tie!\")\n",
        "      break\n",
        "\n",
        "    current_player = 'O' if current_player == 'X' else 'X'\n",
        "\n",
        "if __name__ == \"__main__\":\n",
        "  main()\n",
        "\n"
      ],
      "metadata": {
        "colab": {
          "base_uri": "https://localhost:8080/"
        },
        "id": "QBQjdLWWMHcv",
        "outputId": "115c14a7-f171-4534-9af6-eb3dbcdde4c0"
      },
      "execution_count": null,
      "outputs": [
        {
          "output_type": "stream",
          "name": "stdout",
          "text": [
            "      \n",
            "      \n",
            "      \n",
            "Player X, enter your move (1-9): 1\n",
            "X     \n",
            "      \n",
            "      \n",
            "Player O, enter your move (1-9): 2\n",
            "X O   \n",
            "      \n",
            "      \n",
            "Player X, enter your move (1-9): 3\n",
            "X O X \n",
            "      \n",
            "      \n",
            "Player O, enter your move (1-9): 4\n",
            "X O X \n",
            "O     \n",
            "      \n",
            "Player X, enter your move (1-9): 5\n",
            "X O X \n",
            "O X   \n",
            "      \n",
            "Player O, enter your move (1-9): 6\n",
            "X O X \n",
            "O X O \n",
            "      \n",
            "Player X, enter your move (1-9): 7\n",
            "X O X \n",
            "O X O \n",
            "X     \n",
            "Player X wins!\n"
          ]
        }
      ]
    },
    {
      "cell_type": "markdown",
      "source": [
        "# New Section"
      ],
      "metadata": {
        "id": "7dx1XBWEPevi"
      }
    }
  ]
}